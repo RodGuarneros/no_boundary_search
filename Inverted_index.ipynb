{
 "cells": [
  {
   "cell_type": "code",
   "execution_count": 58,
   "metadata": {},
   "outputs": [],
   "source": [
    "# Dependencias\n",
    "import json\n",
    "import pandas as pd\n",
    "import random\n",
    "import time\n",
    "import matplotlib.pyplot as plt"
   ]
  },
  {
   "cell_type": "markdown",
   "metadata": {},
   "source": [
    "# Introducción\n",
    "\n",
    "En esta ocasión, se comparará en términos del tiempo promedio que lleva a cada algoritmo realizar 100 búsquedas de 1000 identificadores en un arreglo de 50,000 elementos. Se comprobará cuál es el algoritmo más eficiente a partir de esta métrica."
   ]
  },
  {
   "cell_type": "markdown",
   "metadata": {},
   "source": [
    "# - Use el archivo listas-posteo-100.json, contiene las 100 listas de posteo más frecuentes, se encuentran en formato JSON.\n",
    "# - Utilice las listas (sin el término asociado)."
   ]
  },
  {
   "cell_type": "code",
   "execution_count": 71,
   "metadata": {},
   "outputs": [],
   "source": [
    "# Leyendo el archivo listas-posteo-100.json\n",
    "\n",
    "# open the JSON file and load it as a list of lists\n",
    "with open('listas-posteo-100_.json', 'r') as f:\n",
    "    data = json.load(f)\n"
   ]
  },
  {
   "cell_type": "markdown",
   "metadata": {},
   "source": [
    "# - Seleccione 1000 identificadores de documentos al azar, entre 1 y n, recuerde que n = 50, 000."
   ]
  },
  {
   "cell_type": "code",
   "execution_count": 3,
   "metadata": {},
   "outputs": [],
   "source": [
    "# creamos función de selección aleatoria en una lista de listas\n",
    "def seleccionar_identificadores(lista_de_listas, n):\n",
    "    numeros = []\n",
    "    for sublista in lista_de_listas:\n",
    "        numeros.extend(sublista)\n",
    "    identificadores = random.sample(numeros, n)\n",
    "    return identificadores"
   ]
  },
  {
   "cell_type": "code",
   "execution_count": 4,
   "metadata": {},
   "outputs": [
    {
     "name": "stdout",
     "output_type": "stream",
     "text": [
      "Así se ven los identificadores seleccionados aleatoriamente, tomo los primeros 10 identificadores solamente: [5598, 3511, 3112, 42642, 42849, 5926, 18765, 7231, 31881, 43128]\n",
      "Se confirma que se trata de 1000 números.\n"
     ]
    }
   ],
   "source": [
    "identificadores_seleccionados = seleccionar_identificadores(data,1000)\n",
    "print(f'Así se ven los identificadores seleccionados aleatoriamente, tomo los primeros 10 identificadores solamente: {identificadores_seleccionados[:10]}')\n",
    "print(f'Se confirma que se trata de {len(identificadores_seleccionados)} números.')"
   ]
  },
  {
   "cell_type": "markdown",
   "metadata": {},
   "source": [
    "# Grafique el tiempo promedio de buscar los 1000 identificadores en todas las listas (un solo número que represente las 100 × 1000 búsquedas). Nota: lo que determinará al buscar es la posición de inserción que se define como el lugar donde debería estar el identificador si se encontrara en la lista.\n",
    "# - Los algoritmos que caracterizará son los siguientes (nombres con referencia a [@Bentley76]):\n",
    "## – Búsqueda binaria acotada\n",
    "## – Búsqueda secuencial B0\n",
    "## – Búsqueda no acotada B1\n",
    "## – Búsqueda no acotada B2\n",
    "## – Importante: Tal vez deba repetir varias veces cada búsqueda si los tiempos son muy pequeños.\n",
    "# - Bosqueje en pseudo-código la implementación de la búsqueda casí optima Bk"
   ]
  },
  {
   "cell_type": "markdown",
   "metadata": {},
   "source": [
    "# 1. Búsqueda binaria acotada"
   ]
  },
  {
   "cell_type": "code",
   "execution_count": 15,
   "metadata": {},
   "outputs": [],
   "source": [
    "# se crea una función para el cálculo de la binaria normal acotada\n",
    "    \n",
    "def busqueda_binaria_posicion(lista_de_listas, lista_objetivo):\n",
    "\n",
    "    # Como indica la literatura, es menos costoso realizar la búsqueda en un arreglo ordenado, por esta razón se incluye un arreglo ordenado a partir de lo siguiente:\n",
    "\n",
    "    lista_plana = [(num, i, j) for i, sublist in enumerate(lista_de_listas) for j, num in enumerate(sublist)]\n",
    "    lista_plana.sort()\n",
    "\n",
    "    # haciendo la búsqueda binaria acotada\n",
    "    resultados = []\n",
    "    for num_obj in lista_objetivo:\n",
    "        left = 0\n",
    "        right = len(lista_plana) - 1\n",
    "        found = False\n",
    "        while left <= right:\n",
    "            mid = (left + right) // 2\n",
    "            if lista_plana[mid][0] < num_obj:\n",
    "                left = mid + 1\n",
    "            elif lista_plana[mid][0] > num_obj:\n",
    "                right = mid - 1\n",
    "            else:\n",
    "                found = True\n",
    "                break\n",
    "\n",
    "        if found:\n",
    "            resultados.append((num_obj, lista_plana[mid][1], lista_plana[mid][2]))\n",
    "            \n",
    "    return resultados\n",
    "\n",
    "\n"
   ]
  },
  {
   "cell_type": "code",
   "execution_count": 46,
   "metadata": {},
   "outputs": [
    {
     "name": "stdout",
     "output_type": "stream",
     "text": [
      "La búsqueda nos proporcina arreglos ordenados de la forma (identificador buscado, lista original a la que pertenece, posición o índice en la lista), tal y como se puede ver a continuación: [(5598, 1, 1011), (3511, 14, 684), (3112, 30, 185), (42642, 0, 35004), (42849, 0, 35178), (5926, 0, 4664), (18765, 6, 1425), (7231, 10, 2687), (31881, 53, 750), (43128, 4, 1925)]\n"
     ]
    }
   ],
   "source": [
    "# aplicando la búsqueda binaria acotada para el resultado\n",
    "posicion_insersion = busqueda_binaria_posicion(data, identificadores_seleccionados)\n",
    "print(f'La búsqueda nos proporcina arreglos ordenados de la forma (identificador buscado, lista original a la que pertenece, posición o índice en la lista), tal y como se puede ver a continuación: {posicion_insersion[:10]}')\n"
   ]
  },
  {
   "cell_type": "code",
   "execution_count": 7,
   "metadata": {},
   "outputs": [
    {
     "name": "stdout",
     "output_type": "stream",
     "text": [
      "El tiempo promedio: 0.057958 segundos\n"
     ]
    }
   ],
   "source": [
    "# Para calcular el tiempo promedio en 100 x 1000 búsquedas\n",
    "tiempo_total = 0\n",
    "num_busquedas = 100\n",
    "\n",
    "for i in range(num_busquedas):\n",
    "    tiempo_inicio = time.time()\n",
    "    resultados = busqueda_binaria_posicion(data, identificadores_seleccionados)\n",
    "    tiempo_final = time.time()\n",
    "    tiempo_busqueda = tiempo_final - tiempo_inicio\n",
    "    tiempo_total += tiempo_busqueda\n",
    "\n",
    "tiempo_promedio = tiempo_total / num_busquedas\n",
    "print(\"El tiempo promedio: {:.6f} segundos\".format(tiempo_promedio))"
   ]
  },
  {
   "cell_type": "markdown",
   "metadata": {},
   "source": [
    "# 2. Búsqueda secuencial B0"
   ]
  },
  {
   "cell_type": "code",
   "execution_count": 11,
   "metadata": {},
   "outputs": [],
   "source": [
    "def busqueda_secuencial_B0(lista_a_buscar, lista_de_listas):\n",
    "    lista_plana = [(num, i, j) for i, sublist in enumerate(lista_de_listas) for j, num in enumerate(sublist)]\n",
    "    lista_plana.sort()\n",
    "\n",
    "    resultados = {number: [] for number in lista_a_buscar}\n",
    "    for i in range(len(lista_plana)):\n",
    "        if lista_plana[i][0] in lista_a_buscar:\n",
    "            resultados[lista_plana[i][0]].append((lista_plana[i][1], lista_plana[i][2]))\n",
    "    return resultados\n"
   ]
  },
  {
   "cell_type": "code",
   "execution_count": 12,
   "metadata": {},
   "outputs": [
    {
     "name": "stdout",
     "output_type": "stream",
     "text": [
      "La búsqueda nos proporcina arreglos ordenados de la forma (identificador buscado, lista original a la que pertenece, posición o índice en la lista), tal y como se puede ver a continuación: {5598: [(6, 1011), (41, 88), (85, 137)], 3511: [(5, 684), (6, 743), (94, 89)], 3112: [(0, 2346), (1, 1210), (29, 108), (49, 185)]}\n"
     ]
    }
   ],
   "source": [
    "# aplicando la búsqueda secuencial B0\n",
    "posicion = busqueda_secuencial_B0(identificadores_seleccionados, data)\n",
    "print(f'La búsqueda nos proporcina arreglos ordenados de la forma (identificador buscado, lista original a la que pertenece, posición o índice en la lista), tal y como se puede ver a continuación: {dict(list(posicion.items())[:3])}')"
   ]
  },
  {
   "cell_type": "code",
   "execution_count": 14,
   "metadata": {},
   "outputs": [
    {
     "name": "stdout",
     "output_type": "stream",
     "text": [
      "El tiempo promedio: 2.642852 segundos\n"
     ]
    }
   ],
   "source": [
    "# Para calcular el tiempo promedio en 100 x 1000 búsquedas\n",
    "tiempo_total = 0\n",
    "num_busquedas = 100\n",
    "\n",
    "for i in range(num_busquedas):\n",
    "    tiempo_inicio = time.time()\n",
    "    resultados = busqueda_secuencial_B0(identificadores_seleccionados,data)\n",
    "    tiempo_final = time.time()\n",
    "    tiempo_busqueda = tiempo_final - tiempo_inicio\n",
    "    tiempo_total += tiempo_busqueda\n",
    "\n",
    "tiempo_promedio = tiempo_total / num_busquedas\n",
    "print(\"El tiempo promedio: {:.6f} segundos\".format(tiempo_promedio))"
   ]
  },
  {
   "cell_type": "markdown",
   "metadata": {},
   "source": [
    "# 3. Búsqueda no acotada B1"
   ]
  },
  {
   "cell_type": "code",
   "execution_count": 43,
   "metadata": {},
   "outputs": [],
   "source": [
    "def busqueda_no_acotada_B1(lista_de_listas, lista_objetivo):\n",
    "# debe ser sobre un universo de datos ordenados para reducir los costos\n",
    "    lista_aplanada = [num for sublist in lista_de_listas for num in sublist]\n",
    "    lista_aplanada.sort()\n",
    "    resultados = []\n",
    "    for val in lista_objetivo:\n",
    "        found = False\n",
    "        left, right = 0, len(lista_aplanada) - 1\n",
    "        while left <= right:\n",
    "            mid = (left + right) // 2\n",
    "            if lista_aplanada[mid] == val:\n",
    "                found = True\n",
    "                break\n",
    "            elif lista_aplanada[mid] < val:\n",
    "                left = mid + 1\n",
    "            else:\n",
    "                right = mid - 1\n",
    "        if found:\n",
    "            for i, sublist in enumerate(lista_de_listas):\n",
    "                for j, num in enumerate(sublist):\n",
    "                    if num == val:\n",
    "                        resultados.append((val,i, j))\n",
    "    return resultados\n"
   ]
  },
  {
   "cell_type": "code",
   "execution_count": 45,
   "metadata": {},
   "outputs": [
    {
     "name": "stdout",
     "output_type": "stream",
     "text": [
      "La búsqueda nos proporcina arreglos ordenados de la forma (identificador buscado, lista original a la que pertenece, posición o índice en la lista), tal y como se puede ver a continuación: [(5598, 1, 1011), (5598, 44, 137), (5598, 65, 88), (3511, 1, 743), (3511, 14, 684), (3511, 40, 89), (3112, 0, 2346), (3112, 10, 1210), (3112, 30, 185), (3112, 41, 108)]\n"
     ]
    }
   ],
   "source": [
    "# aplicando la búsqueda acotada B1\n",
    "posicion_insersion = busqueda_no_acotada_B1(data, identificadores_seleccionados)\n",
    "print(f'La búsqueda nos proporcina arreglos ordenados de la forma (identificador buscado, lista original a la que pertenece, posición o índice en la lista), tal y como se puede ver a continuación: {posicion_insersion[:10]}')"
   ]
  },
  {
   "cell_type": "code",
   "execution_count": 50,
   "metadata": {},
   "outputs": [
    {
     "name": "stdout",
     "output_type": "stream",
     "text": [
      "El tiempo promedio: 9.165755 segundos\n"
     ]
    }
   ],
   "source": [
    "# Para calcular el tiempo promedio en 100 x 1000 búsquedas\n",
    "tiempo_total = 0\n",
    "num_busquedas = 100\n",
    "\n",
    "for i in range(num_busquedas):\n",
    "    tiempo_inicio = time.time()\n",
    "    resultados =busqueda_no_acotada_B1(data, identificadores_seleccionados)\n",
    "    tiempo_final = time.time()\n",
    "    tiempo_busqueda = tiempo_final - tiempo_inicio\n",
    "    tiempo_total += tiempo_busqueda\n",
    "\n",
    "tiempo_promedio = tiempo_total / num_busquedas\n",
    "print(\"El tiempo promedio: {:.6f} segundos\".format(tiempo_promedio))"
   ]
  },
  {
   "cell_type": "markdown",
   "metadata": {},
   "source": [
    "# 4. Búsqueda no acotada B2"
   ]
  },
  {
   "cell_type": "code",
   "execution_count": 54,
   "metadata": {},
   "outputs": [],
   "source": [
    "def busqueda_no_acotada_B2(lista_de_listas, lista_objetivo):\n",
    "\n",
    "    lista_plana = [num for sublist in lista_de_listas for num in sublist]\n",
    "    lista_plana.sort()\n",
    "    resultados = []\n",
    "    for val in lista_objetivo:\n",
    "        found = False\n",
    "        left, right = 0, len(lista_plana) - 1\n",
    "        while left < right:\n",
    "            mid = (left + right) // 2\n",
    "            if lista_plana[mid] < val:\n",
    "                left = mid + 1\n",
    "            else:\n",
    "                right = mid\n",
    "        if lista_plana[left] == val:\n",
    "            # busqueda líneal para encontrar la mejor opción\n",
    "            for i, sublist in enumerate(lista_de_listas):\n",
    "                for j, num in enumerate(sublist):\n",
    "                    if num == val:\n",
    "                        resultados.append((val, i, j))\n",
    "    return resultados\n"
   ]
  },
  {
   "cell_type": "code",
   "execution_count": 55,
   "metadata": {},
   "outputs": [
    {
     "name": "stdout",
     "output_type": "stream",
     "text": [
      "La búsqueda nos proporcina arreglos ordenados de la forma (identificador buscado, lista original a la que pertenece, posición o índice en la lista), tal y como se puede ver a continuación: [(5598, 1, 1011), (5598, 44, 137), (5598, 65, 88), (3511, 1, 743), (3511, 14, 684), (3511, 40, 89), (3112, 0, 2346), (3112, 10, 1210), (3112, 30, 185), (3112, 41, 108)]\n"
     ]
    }
   ],
   "source": [
    "# aplicando la búsqueda acotada B2\n",
    "posicion_insersion = busqueda_no_acotada_B2(data, identificadores_seleccionados)\n",
    "print(f'La búsqueda nos proporcina arreglos ordenados de la forma (identificador buscado, lista original a la que pertenece, posición o índice en la lista), tal y como se puede ver a continuación: {posicion_insersion[:10]}')"
   ]
  },
  {
   "cell_type": "code",
   "execution_count": 56,
   "metadata": {},
   "outputs": [
    {
     "name": "stdout",
     "output_type": "stream",
     "text": [
      "El tiempo promedio: 7.108070 segundos\n"
     ]
    }
   ],
   "source": [
    "# Para calcular el tiempo promedio en 100 x 1000 búsquedas\n",
    "tiempo_total = 0\n",
    "num_busquedas = 100\n",
    "\n",
    "for i in range(num_busquedas):\n",
    "    tiempo_inicio = time.time()\n",
    "    resultados =busqueda_no_acotada_B2(data, identificadores_seleccionados)\n",
    "    tiempo_final = time.time()\n",
    "    tiempo_busqueda = tiempo_final - tiempo_inicio\n",
    "    tiempo_total += tiempo_busqueda\n",
    "\n",
    "tiempo_promedio = tiempo_total / num_busquedas\n",
    "print(\"El tiempo promedio: {:.6f} segundos\".format(tiempo_promedio))"
   ]
  },
  {
   "cell_type": "markdown",
   "metadata": {},
   "source": [
    "# Resultados Gráficos"
   ]
  },
  {
   "cell_type": "code",
   "execution_count": 70,
   "metadata": {},
   "outputs": [
    {
     "data": {
      "image/png": "[encoded data removed]",
      "text/plain": [
       "<Figure size 640x480 with 1 Axes>"
      ]
     },
     "metadata": {},
     "output_type": "display_data"
    }
   ],
   "source": [
    "fig = plt.figure()\n",
    "ax = fig.add_axes([0,0,1,1])\n",
    "Algoritmos = ['Binaria acotada', 'Secuencial B0', 'No acotada B1', 'No acotada B2']\n",
    "Tiempo_Promedio = [0.057958,2.642852,9.165755,7.108070]\n",
    "ax.bar(Algoritmos,Tiempo_Promedio)\n",
    "plt.xlabel('Algoritmos de Búsqueda') \n",
    "plt.ylabel('Segundos') \n",
    "plt.title(\"Tiempo promedio de 100 distintas ocasiones en que se buscan \\nlos 1000 identificadores elegidos al azar en todas las listas\")\n",
    "plt.show()"
   ]
  },
  {
   "cell_type": "markdown",
   "metadata": {},
   "source": [
    "# 5. Bosqueje en pseudo-código la implementación de la búsqueda casí optima Bk"
   ]
  },
  {
   "cell_type": "code",
   "execution_count": null,
   "metadata": {},
   "outputs": [],
   "source": [
    "def busqueda_casi_optima(lista_de_listas, lista_objetivo):\n",
    "\n",
    "    lista_plana = [num for sublist in lista_de_listas for num in sublist]\n",
    "    lista_plana.sort()\n",
    "    resultados = []\n",
    "    \n",
    "   low_index = 0\n",
    "   high_index = length(list) - 1\n",
    "   midpoint = (low_index + high_index) / 2\n",
    "\n",
    "   WHILE (low_index < high_index AND list[midpoint] != target)\n",
    "\n",
    "        if lista_plana[left] == val:\n",
    "            # busqueda líneal para encontrar la mejor opción\n",
    "            for i, sublist in enumerate(lista_de_listas):\n",
    "                for j, num in enumerate(sublist):\n",
    "                    if num == val:\n",
    "                        resultados.append((val, i, j))\n",
    "    return resultados"
   ]
  },
  {
   "cell_type": "markdown",
   "metadata": {},
   "source": [
    "# Conclusiones\n",
    "\n",
    "La búsqueda del algoritmos más eficiente es crucial para el tratamiento de datos masivos. En lo personal los principios básicos aprendidos en esta ocasión son particularmente utiles, como es el caso de siempre actuar con un arreglo o lista ordenada para efectos de reducir el costo de la búsqueda, toda vez que si no estuvieran ordenados los datos se tendrían que revisar cada uno de los elementos. Es por esta razón que al momento de la construcción de los algoritmos de búsqueda se cuido este aspecto y se ordenó la lista de listas a cada momento. \n",
    "\n",
    "Fue también crucial hacer lo que en la literatura se conoce como una tabla plana, para efectos de normalizar la lista de listas y tener un buscador más eficiente.\n",
    "\n",
    "El preprocesamiento de la información en este sentido se considera crucial y relevante para el diseño del buscador. \n",
    "\n",
    "Otro principio, sin lugar a duda relevante, es que los costos de búsqueda en los casos no acotados, no dependen del tamaño del arreglo sino de la consulta misma (son adaptativos). La idea de eficiencia es clave aquí y buscamos que la búsqueda no cueste más del peor de los casos. \n",
    "\n",
    "Entre mayor sea el caso acotado B0, B1, B2, B3..., saltaremos más rápido en la búsqueda, pero esta se adaptará mucho mejor. Digamos que esa sería la disyuntiva.\n",
    "\n",
    "Finalmente, la búsqueda Binaria Acotada fue la más eficiente en términos del tiempo promedio invertido en cada consulta."
   ]
  },
  {
   "cell_type": "markdown",
   "metadata": {},
   "source": [
    "# Bibliografía y referencias\n",
    "- How to Do a Binary Search in Python: https://realpython.com/binary-search-python/\n",
    "- Python: Sequential search: https://www.w3resource.com/python-exercises/data-structures-and-algorithms/python-search-and-sorting-exercise-2.php\n",
    "-  [@Knuth98]: Donald E. Knuth. 1998. The Art of Computer Programming, Volume 3: (2nd\n",
    "Ed.) Sorting and Searching. Addison Wesley Longman Publishing Co., Inc., Redwood City,\n",
    "CA, USA.\n",
    "- [@Bentley76]: Jon Louis Bentley, Andrew Chi-Chih Yao. An almost optimal algorithm for\n",
    "unbounded searching. Information Processing Letters, Volume 5, Issue 3, 1976, Pages 82-87.\n",
    "ISSN 0020-0190. https://doi.org/10.1016/0020-0190(76)90071-5.\n",
    "- [@Bentley85]: Bentley, J.L., McGeoch, C.C. Amortized analyses of self-organizing sequential search heuristics. (1985) Communications of the ACM, 28 (4), pp. 404-411. Doi:\n",
    "10.1145/3341.3349.\n",
    "- [@Cormen01]: Cormen et. al. Introduction to algorithms. MIT press 2001. 2nd edition.\n",
    "- [@Sedgewick98]: Robert Sedgewick. Algorithms in C++ - Parts 1-4: Fundamentals, Data\n",
    "Structures, Sorting, Searching. Addison-Wesley-Longman, 1998. 3rd Edition"
   ]
  }
 ],
 "metadata": {
  "hide_input": false,
  "kernelspec": {
   "display_name": "Python 3 (ipykernel)",
   "language": "python",
   "name": "python3"
  },
  "language_info": {
   "codemirror_mode": {
    "name": "ipython",
    "version": 3
   },
   "file_extension": ".py",
   "mimetype": "text/x-python",
   "name": "python",
   "nbconvert_exporter": "python",
   "pygments_lexer": "ipython3",
   "version": "3.8.15"
  },
  "latex_envs": {
   "LaTeX_envs_menu_present": true,
   "autoclose": false,
   "autocomplete": true,
   "bibliofile": "biblio.bib",
   "cite_by": "apalike",
   "current_citInitial": 1,
   "eqLabelWithNumbers": true,
   "eqNumInitial": 1,
   "hotkeys": {
    "equation": "Ctrl-E",
    "itemize": "Ctrl-I"
   },
   "labels_anchors": false,
   "latex_user_defs": false,
   "report_style_numbering": false,
   "user_envs_cfg": false
  },
  "toc": {
   "base_numbering": 1,
   "nav_menu": {},
   "number_sections": true,
   "sideBar": true,
   "skip_h1_title": false,
   "title_cell": "Table of Contents",
   "title_sidebar": "Contents",
   "toc_cell": false,
   "toc_position": {},
   "toc_section_display": true,
   "toc_window_display": false
  },
  "varInspector": {
   "cols": {
    "lenName": 16,
    "lenType": 16,
    "lenVar": 40
   },
   "kernels_config": {
    "python": {
     "delete_cmd_postfix": "",
     "delete_cmd_prefix": "del ",
     "library": "var_list.py",
     "varRefreshCmd": "print(var_dic_list())"
    },
    "r": {
     "delete_cmd_postfix": ") ",
     "delete_cmd_prefix": "rm(",
     "library": "var_list.r",
     "varRefreshCmd": "cat(var_dic_list()) "
    }
   },
   "types_to_exclude": [
    "module",
    "function",
    "builtin_function_or_method",
    "instance",
    "_Feature"
   ],
   "window_display": false
  }
 },
 "nbformat": 4,
 "nbformat_minor": 4
}
